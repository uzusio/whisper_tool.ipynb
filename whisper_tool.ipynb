{
  "cells": [
    {
      "cell_type": "markdown",
      "metadata": {
        "id": "view-in-github",
        "colab_type": "text"
      },
      "source": [
        "<a href=\"https://colab.research.google.com/github/uzusio/whisper_tool.ipynb/blob/main/whisper_tool.ipynb\" target=\"_parent\"><img src=\"https://colab.research.google.com/assets/colab-badge.svg\" alt=\"Open In Colab\"/></a>"
      ]
    },
    {
      "cell_type": "markdown",
      "metadata": {
        "id": "77hp4SaVOw39"
      },
      "source": [
        "# 音声文字起こしツール for whisper\n",
        "\n",
        "\n",
        "---\n",
        "\n",
        "\n",
        "## 概要\n",
        "OpenAIの[whisper](https://github.com/openai/whisper)を使用した音声文字起こしツールです。\n",
        "Google Colabの無料環境で利用可能です。\n",
        "\n",
        "---\n",
        "\n",
        "\n",
        "## 使い方\n",
        "\n",
        "1.   編集->ノートブックの設定->ハードウェア アクセラレータ から「T4 GPU」を選択してください\n",
        "2.   DIR_PATHに作業フォルダのパスを指定してください\n",
        "    1.   Colabのデフォルトのディレクトリは`/content`です。\n",
        "    2.   Driveをマウントして`/content/drive/MyDrive`以下からDrive上のディレクトリを指定できます\n",
        "    3.   メディアファイルを左ペインのColab環境にドラッグドロップして使用することもできます\n",
        "3.   初期設定を入力してください\n",
        "    1.   DIR_PATH: 文字起こしをする音声ファイルを配置するディレクトリです。文字起こしされたテキストファイルも同ディレクトリに出力されます。\n",
        "         1.    例: `/content`\n",
        "    2.   INPUT_TYPE: `ファイルから読み込み`, `URLから読み込み`に対応しています\n",
        "    2.   INPUT_FILE: `ファイルから読み込み`の場合、文字起こしするファイル名を記入してください。\n",
        "         1.    例: `hogehoge.mp3`, `fugafuga.mkv`\n",
        "    2.   INPUT_URL: `URLから読み込み`の場合、文字起こしするメディアのURLを記入してください。\n",
        "    3.   MODEL_TYPE： 文字起こしの精度を選びます。「T4 GPU」でも動作しますので最高品質モデルの`large-v3`をお勧めします。\n",
        "    4.   srt_output: 字幕ファイル生成に対応しました。出力ファイルを字幕ファイル形式にしたい場合はチェックを入れてください。\n",
        "4.以降のセルを最後まで実行してください。ランタイム->以降のセルを実行でもOKです。\n",
        "\n",
        "## リリースノート\n",
        "\n",
        "### 2023.1.13\n",
        "・マイクからの入力機能を追加\n",
        "\n",
        "・Google翻訳とPapago翻訳を追加\n",
        "\n",
        "・web上の動画をダウンロードする機能を追加\n",
        "\n",
        "### 2024.3.5\n",
        "\n",
        "・faster-whisperに切り替え\n",
        "\n",
        "・Papagoの翻訳APIがNaver Cloudに移ったため一旦選択肢から消去\n",
        "\n",
        "・マイク入力を削除\n",
        "\n"
      ]
    },
    {
      "cell_type": "code",
      "execution_count": null,
      "metadata": {
        "id": "_edxIOabN2AO"
      },
      "outputs": [],
      "source": [
        "#@title ## Googleドライブのマウント\n",
        "from google.colab import drive\n",
        "drive.mount('/content/drive')"
      ]
    },
    {
      "cell_type": "code",
      "execution_count": 25,
      "metadata": {
        "id": "DCGevpCmrXQB"
      },
      "outputs": [],
      "source": [
        "#@title ## 初期設定\n",
        "#@markdown ### 基本設定:\n",
        "#@markdown ・ファイルを配置するディレクトリを指定\n",
        "DIR_PATH=\"/content\" #@param {type:\"string\"}\n",
        "#@markdown ・読み込みタイプ\n",
        "INPUT_TYPE = 'URLから読み込み' #@param [\"ファイルから読み込み\", \"URLから読み込み\"]\n",
        "#@markdown ・入力ファイル名 / URL\n",
        "INPUT_FILE=\"\" #@param {type:\"string\"}\n",
        "INPUT_URL=\"\" #@param {type:\"string\"}\n",
        "\n",
        "#@markdown ・利用するモデルサイズを選択\n",
        "MODEL_TYPE=\"large-v3\" #@param [\"tiny\", \"base\",\"small\",\"medium\",\"large\",\"large-v2\",\"large-v3\"] {type:\"string\"}\n",
        "\n",
        "#@markdown ・認識言語/翻訳元言語を指定（\"auto\"だと自動判定されます）\n",
        "TRANS_FROM  = 'ja' #@param  [\"auto\",\"ja\",\"en\",\"ko\",\"zh-CN\",\"zh-TW\",\"es\",\"fr\",\"vi\",\"th\",\"id\"]\n",
        "\n",
        "#@markdown ---\n",
        "\n",
        "\n",
        "#@markdown ### 翻訳設定:\n",
        "\n",
        "#@markdown ・翻訳機能を有効にする場合下にチェック\n",
        "translate_option=False #@param {type: \"boolean\"}\n",
        "\n",
        "#@markdown ・翻訳エンジンを指定\n",
        "TRANSLATOR = 'GoogleTranslator' #@param [\"GoogleTranslator\", \"PapagoTranslator\"]\n",
        "\n",
        "#@markdown ・翻訳先言語を指定\n",
        "TRANS_TO  = 'ja' #@param  [\"ja\",\"en\",\"ko\",\"zh-CN\",\"zh-TW\",\"es\",\"fr\",\"vi\",\"th\",\"id\"]\n",
        "\n",
        "#@markdown ---\n",
        "\n",
        "#@markdown ### 字幕ファイル設定（動画編集用）:\n",
        "#@markdown ・字幕ファイル(.srt)を出力したい場合下にチェック\n",
        "srt_output=True #@param {type: \"boolean\"}\n",
        "\n",
        "\n",
        "\n"
      ]
    },
    {
      "cell_type": "code",
      "execution_count": null,
      "metadata": {
        "id": "OeCjEqh51ogd"
      },
      "outputs": [],
      "source": [
        "#@title ## 必要ライブラリのインストール\n",
        "# !pip install git+https://github.com/openai/whisper.git\n",
        "!pip install faster_whisper\n",
        "!pip install srt\n",
        "!pip install deep-translator\n",
        "!pip install yt-dlp"
      ]
    },
    {
      "cell_type": "code",
      "execution_count": null,
      "metadata": {
        "id": "WVa0NyZd7w0D"
      },
      "outputs": [],
      "source": [
        "#@title ## モデルのロード\n",
        "#import whisper\n",
        "from faster_whisper import WhisperModel\n",
        "\n",
        "# model = whisper.load_model(MODEL_TYPE)\n",
        "model = WhisperModel(MODEL_TYPE, device=\"cuda\", compute_type=\"float16\")"
      ]
    },
    {
      "cell_type": "code",
      "execution_count": 26,
      "metadata": {
        "id": "l5iwYvQ6q99Q"
      },
      "outputs": [],
      "source": [
        "#@title ## 文字起こし実行\n",
        "FILE_PATH = DIR_PATH + \"/\" + INPUT_FILE\n",
        "\n",
        "if INPUT_TYPE == \"URLから読み込み\":\n",
        "  import subprocess\n",
        "\n",
        "  equal_sign_index = INPUT_URL.find(\"=\")\n",
        "  MOVIE_ID = INPUT_URL[equal_sign_index + 1:]\n",
        "  AUDIO_FILE_NAME = f\"{MOVIE_ID}.mp3\"\n",
        "  # Download audio from Youtube\n",
        "  def dl_yt(yt_url):\n",
        "      subprocess.run(f\"yt-dlp -x --audio-format mp3 -o {AUDIO_FILE_NAME} {yt_url}\", shell=True)\n",
        "\n",
        "  dl_yt(INPUT_URL)\n",
        "  FILE_PATH = DIR_PATH + \"/\" + AUDIO_FILE_NAME\n",
        "\n",
        "segments, info = model.transcribe(\n",
        "  FILE_PATH,\n",
        "  beam_size=5,\n",
        "  vad_filter=True,\n",
        "  without_timestamps=True,\n",
        "  language=TRANS_FROM)\n",
        "\n",
        "\n"
      ]
    },
    {
      "cell_type": "code",
      "execution_count": 29,
      "metadata": {
        "id": "2bgXU2Za5b_s"
      },
      "outputs": [],
      "source": [
        "def translate_segments(segments, translator, target_lang, source_lang='auto'):\n",
        "    translated_segments = []\n",
        "\n",
        "    for segment in segments:\n",
        "        if translator == 'GoogleTranslator':\n",
        "            translated_text = GoogleTranslator(source=source_lang, target=target_lang).translate(segment.text)\n",
        "        # elif translator == 'PapagoTranslator':\n",
        "        #     translated_text = Translator(CLIENT_ID, SECRET_KEY).translate(text=segment.text, target=target_lang, source=source_lang).text\n",
        "        else:\n",
        "            raise ValueError(f\"Unknown translator: {translator}\")\n",
        "\n",
        "        translated_segment = {\n",
        "            'text': translated_text,\n",
        "            'start': segment.start,\n",
        "            'end': segment.end\n",
        "        }\n",
        "        translated_segments.append(translated_segment)\n",
        "\n",
        "    return translated_segments\n",
        "\n",
        "\n",
        "def result2subs(segments, translate_option=False, translator=None, target_lang=None, source_lang='auto'):\n",
        "    if translate_option:\n",
        "        segments = translate_segments(segments, translator, target_lang, source_lang)\n",
        "    else:\n",
        "        # 翻訳オプションがOFFの場合、segmentsをそのままリストに変換\n",
        "        segments = [{'start': segment.start, 'end': segment.end, 'text': segment.text} for segment in segments]\n",
        "\n",
        "    subs = []\n",
        "\n",
        "    for i, segment in enumerate(segments):\n",
        "        start = segment['start']\n",
        "        end = segment['end']\n",
        "        text = segment['text']\n",
        "        sub = Subtitle(index=i+1, start=timedelta(seconds=start), end=timedelta(seconds=end), content=text)\n",
        "        subs.append(sub)\n",
        "\n",
        "    return subs\n",
        "\n",
        "# 字幕出力\n",
        "if srt_output:\n",
        "    if translate_option:\n",
        "        # 翻訳された字幕ファイルのみを出力\n",
        "        with open(f\"{FILE_PATH}_{TRANS_TO}.srt\", \"w\") as f:\n",
        "            f.write(srt.compose(result2subs(segments, translate_option=True, translator=TRANSLATOR, target_lang=TRANS_TO, source_lang=TRANS_FROM)))\n",
        "    else:\n",
        "        # 元の言語の字幕ファイルを出力\n",
        "        with open(f\"{FILE_PATH}.srt\", \"w\") as f:\n",
        "            f.write(srt.compose(result2subs(segments)))\n"
      ]
    },
    {
      "cell_type": "markdown",
      "source": [
        "# デバッグ用"
      ],
      "metadata": {
        "id": "-5C70Tph4wnx"
      }
    },
    {
      "cell_type": "code",
      "source": [
        "# デバッグ用（ジェネレータが消費されてしまうので注意）\n",
        "\n",
        "print(\"Detected language '%s' with probability %f\" % (info.language, info.language_probability))\n",
        "for segment in segments:\n",
        "    print(\"[%.2fs -> %.2fs] %s\" % (segment.start, segment.end, segment.text))\n"
      ],
      "metadata": {
        "id": "w_shmo0pzHF6"
      },
      "execution_count": null,
      "outputs": []
    },
    {
      "cell_type": "code",
      "source": [
        "for segment in segments:\n",
        "    print(segment)\n",
        "    break  # 最初のセグメントのみを出力"
      ],
      "metadata": {
        "id": "PiTO7kXPumGH"
      },
      "execution_count": null,
      "outputs": []
    }
  ],
  "metadata": {
    "accelerator": "GPU",
    "colab": {
      "machine_shape": "hm",
      "provenance": [],
      "collapsed_sections": [
        "-5C70Tph4wnx"
      ],
      "include_colab_link": true
    },
    "gpuClass": "standard",
    "kernelspec": {
      "display_name": "Python 3",
      "name": "python3"
    },
    "language_info": {
      "name": "python"
    }
  },
  "nbformat": 4,
  "nbformat_minor": 0
}